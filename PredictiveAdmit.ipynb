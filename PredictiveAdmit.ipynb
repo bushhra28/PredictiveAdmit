{
  "nbformat": 4,
  "nbformat_minor": 0,
  "metadata": {
    "colab": {
      "provenance": []
    },
    "kernelspec": {
      "name": "python3",
      "display_name": "Python 3"
    },
    "language_info": {
      "name": "python"
    }
  },
  "cells": [
    {
      "cell_type": "code",
      "execution_count": 2,
      "metadata": {
        "id": "wa81UZSDLzyT"
      },
      "outputs": [],
      "source": [
        "import pandas as pd\n",
        "import numpy as np\n",
        "import matplotlib.pyplot as plt\n",
        "\n",
        "import tensorflow as tf\n",
        "from tensorflow import keras\n",
        "from tensorflow.keras.models import Sequential\n",
        "from tensorflow.keras.callbacks import EarlyStopping\n",
        "from tensorflow.keras import layers\n",
        "from sklearn.model_selection import train_test_split\n",
        "from sklearn.preprocessing import StandardScaler\n",
        "from sklearn.preprocessing import Normalizer\n",
        "from sklearn.metrics import r2_score"
      ]
    },
    {
      "cell_type": "code",
      "source": [
        "from google.colab import drive"
      ],
      "metadata": {
        "id": "sxBCOhwfNDkD"
      },
      "execution_count": 3,
      "outputs": []
    },
    {
      "cell_type": "code",
      "source": [
        "admissions_data = pd.read_csv(\"/content/drive/MyDrive/admissions_data.csv\")\n",
        "admissions_data.describe()\n",
        "print(admissions_data.shape)"
      ],
      "metadata": {
        "colab": {
          "base_uri": "https://localhost:8080/"
        },
        "id": "IYS6y3srlki9",
        "outputId": "748f300e-1876-42c9-bc09-2787f61efdee"
      },
      "execution_count": 4,
      "outputs": [
        {
          "output_type": "stream",
          "name": "stdout",
          "text": [
            "(500, 9)\n"
          ]
        }
      ]
    },
    {
      "cell_type": "code",
      "source": [
        "# Splitting data into features and variables\n",
        "labels = admissions_data.iloc[:, -1]\n",
        "features = admissions_data.iloc[:, 1:8]\n",
        "\n",
        "features_train, features_test, labels_train, labels_test = train_test_split(features, labels, test_size=0.25, random_state=42)\n",
        "\n",
        "sc = StandardScaler()\n",
        "features_train_scale = sc.fit_transform(features_train)\n",
        "features_test_scale = sc.transform(features_test)"
      ],
      "metadata": {
        "id": "zJFpONi1lriZ"
      },
      "execution_count": 5,
      "outputs": []
    },
    {
      "cell_type": "code",
      "source": [
        "# NN\n",
        "def design_model(feature_data):\n",
        "    model = Sequential()\n",
        "    num_features = feature_data.shape[1]\n",
        "    input = tf.keras.Input(shape=(num_features))\n",
        "    model.add(input)\n",
        "\n",
        "    hidden_layer = layers.Dense(4, activation='relu')\n",
        "    model.add(hidden_layer)\n",
        "    model.add(layers.Dropout(0.1))\n",
        "    hidden_layer_2 = layers.Dense(2, activation='relu')\n",
        "    model.add(hidden_layer_2)\n",
        "    model.add(layers.Dropout(0.2))\n",
        "    model.add(layers.Dense(1))\n",
        "\n",
        "    opt = keras.optimizers.Adam(learning_rate=0.005)\n",
        "    model.compile(loss='mse', metrics=['mae'], optimizer=opt)\n",
        "    return model"
      ],
      "metadata": {
        "id": "Ys6hvcl0lwI7"
      },
      "execution_count": 6,
      "outputs": []
    },
    {
      "cell_type": "code",
      "source": [
        "# apply the model to the scaled training data\n",
        "model = design_model(features_train_scale)\n",
        "print(model.summary())\n",
        "print('before:', model.trainable_variables)"
      ],
      "metadata": {
        "colab": {
          "base_uri": "https://localhost:8080/"
        },
        "id": "880HE_OalzzU",
        "outputId": "f71a7659-4a9f-4b91-f3ff-f8db6aa25d48"
      },
      "execution_count": 7,
      "outputs": [
        {
          "output_type": "stream",
          "name": "stdout",
          "text": [
            "Model: \"sequential\"\n",
            "_________________________________________________________________\n",
            " Layer (type)                Output Shape              Param #   \n",
            "=================================================================\n",
            " dense (Dense)               (None, 4)                 32        \n",
            "                                                                 \n",
            " dropout (Dropout)           (None, 4)                 0         \n",
            "                                                                 \n",
            " dense_1 (Dense)             (None, 2)                 10        \n",
            "                                                                 \n",
            " dropout_1 (Dropout)         (None, 2)                 0         \n",
            "                                                                 \n",
            " dense_2 (Dense)             (None, 1)                 3         \n",
            "                                                                 \n",
            "=================================================================\n",
            "Total params: 45 (180.00 Byte)\n",
            "Trainable params: 45 (180.00 Byte)\n",
            "Non-trainable params: 0 (0.00 Byte)\n",
            "_________________________________________________________________\n",
            "None\n",
            "before: [<tf.Variable 'dense/kernel:0' shape=(7, 4) dtype=float32, numpy=\n",
            "array([[ 0.55474144,  0.389373  ,  0.15813327,  0.01267892],\n",
            "       [-0.2781682 , -0.5890906 , -0.07346869,  0.561917  ],\n",
            "       [-0.5036123 , -0.14030606,  0.6953593 ,  0.45062464],\n",
            "       [-0.37039682,  0.17769146,  0.10874301,  0.1352135 ],\n",
            "       [-0.16658723,  0.47046882, -0.32802773,  0.2929892 ],\n",
            "       [ 0.36226422,  0.23568201, -0.15952945,  0.11130607],\n",
            "       [-0.13088697,  0.06181878,  0.09784114,  0.3851027 ]],\n",
            "      dtype=float32)>, <tf.Variable 'dense/bias:0' shape=(4,) dtype=float32, numpy=array([0., 0., 0., 0.], dtype=float32)>, <tf.Variable 'dense_1/kernel:0' shape=(4, 2) dtype=float32, numpy=\n",
            "array([[ 0.30849552,  0.14611602],\n",
            "       [-0.26954007, -0.5861497 ],\n",
            "       [ 0.71294785, -0.8741007 ],\n",
            "       [ 0.730716  ,  0.20922852]], dtype=float32)>, <tf.Variable 'dense_1/bias:0' shape=(2,) dtype=float32, numpy=array([0., 0.], dtype=float32)>, <tf.Variable 'dense_2/kernel:0' shape=(2, 1) dtype=float32, numpy=\n",
            "array([[-0.41819686],\n",
            "       [-0.6194049 ]], dtype=float32)>, <tf.Variable 'dense_2/bias:0' shape=(1,) dtype=float32, numpy=array([0.], dtype=float32)>]\n"
          ]
        }
      ]
    },
    {
      "cell_type": "code",
      "source": [
        "# apply early stopping for efficiency\n",
        "es = EarlyStopping(monitor='val_loss', mode='min', verbose=1, patience=20)"
      ],
      "metadata": {
        "id": "PWJMw9nwl6pl"
      },
      "execution_count": 8,
      "outputs": []
    },
    {
      "cell_type": "code",
      "source": [
        "# fit the model with 100 epochs and a batch size of 8\n",
        "# validation split at 0.25\n",
        "history = model.fit(features_train_scale, labels_train.to_numpy(), epochs=100, batch_size=8, verbose=1, validation_split=0.25, callbacks=[es])"
      ],
      "metadata": {
        "colab": {
          "base_uri": "https://localhost:8080/"
        },
        "id": "aHoByhHomLZ_",
        "outputId": "9ae7dede-a77c-40bc-cb73-e5cc5cccf4fa"
      },
      "execution_count": 9,
      "outputs": [
        {
          "output_type": "stream",
          "name": "stdout",
          "text": [
            "Epoch 1/100\n",
            "36/36 [==============================] - 2s 9ms/step - loss: 0.6708 - mae: 0.7583 - val_loss: 0.3789 - val_mae: 0.5955\n",
            "Epoch 2/100\n",
            "36/36 [==============================] - 0s 3ms/step - loss: 0.2639 - mae: 0.4924 - val_loss: 0.2120 - val_mae: 0.4379\n",
            "Epoch 3/100\n",
            "36/36 [==============================] - 0s 3ms/step - loss: 0.1520 - mae: 0.3612 - val_loss: 0.1215 - val_mae: 0.3205\n",
            "Epoch 4/100\n",
            "36/36 [==============================] - 0s 3ms/step - loss: 0.0851 - mae: 0.2587 - val_loss: 0.0695 - val_mae: 0.2308\n",
            "Epoch 5/100\n",
            "36/36 [==============================] - 0s 3ms/step - loss: 0.0492 - mae: 0.1885 - val_loss: 0.0425 - val_mae: 0.1767\n",
            "Epoch 6/100\n",
            "36/36 [==============================] - 0s 4ms/step - loss: 0.0320 - mae: 0.1476 - val_loss: 0.0306 - val_mae: 0.1472\n",
            "Epoch 7/100\n",
            "36/36 [==============================] - 0s 3ms/step - loss: 0.0241 - mae: 0.1270 - val_loss: 0.0245 - val_mae: 0.1306\n",
            "Epoch 8/100\n",
            "36/36 [==============================] - 0s 3ms/step - loss: 0.0212 - mae: 0.1192 - val_loss: 0.0223 - val_mae: 0.1236\n",
            "Epoch 9/100\n",
            "36/36 [==============================] - 0s 3ms/step - loss: 0.0201 - mae: 0.1153 - val_loss: 0.0210 - val_mae: 0.1198\n",
            "Epoch 10/100\n",
            "36/36 [==============================] - 0s 3ms/step - loss: 0.0195 - mae: 0.1130 - val_loss: 0.0204 - val_mae: 0.1182\n",
            "Epoch 11/100\n",
            "36/36 [==============================] - 0s 3ms/step - loss: 0.0190 - mae: 0.1117 - val_loss: 0.0196 - val_mae: 0.1157\n",
            "Epoch 12/100\n",
            "36/36 [==============================] - 0s 4ms/step - loss: 0.0179 - mae: 0.1079 - val_loss: 0.0181 - val_mae: 0.1113\n",
            "Epoch 13/100\n",
            "36/36 [==============================] - 0s 4ms/step - loss: 0.0164 - mae: 0.1027 - val_loss: 0.0161 - val_mae: 0.1041\n",
            "Epoch 14/100\n",
            "36/36 [==============================] - 0s 3ms/step - loss: 0.0148 - mae: 0.0972 - val_loss: 0.0148 - val_mae: 0.0987\n",
            "Epoch 15/100\n",
            "36/36 [==============================] - 0s 3ms/step - loss: 0.0153 - mae: 0.0976 - val_loss: 0.0139 - val_mae: 0.0954\n",
            "Epoch 16/100\n",
            "36/36 [==============================] - 0s 3ms/step - loss: 0.0154 - mae: 0.0983 - val_loss: 0.0138 - val_mae: 0.0950\n",
            "Epoch 17/100\n",
            "36/36 [==============================] - 0s 3ms/step - loss: 0.0144 - mae: 0.0959 - val_loss: 0.0133 - val_mae: 0.0933\n",
            "Epoch 18/100\n",
            "36/36 [==============================] - 0s 3ms/step - loss: 0.0143 - mae: 0.0955 - val_loss: 0.0130 - val_mae: 0.0918\n",
            "Epoch 19/100\n",
            "36/36 [==============================] - 0s 3ms/step - loss: 0.0144 - mae: 0.0957 - val_loss: 0.0128 - val_mae: 0.0912\n",
            "Epoch 20/100\n",
            "36/36 [==============================] - 0s 3ms/step - loss: 0.0147 - mae: 0.0954 - val_loss: 0.0128 - val_mae: 0.0908\n",
            "Epoch 21/100\n",
            "36/36 [==============================] - 0s 3ms/step - loss: 0.0128 - mae: 0.0907 - val_loss: 0.0126 - val_mae: 0.0906\n",
            "Epoch 22/100\n",
            "36/36 [==============================] - 0s 3ms/step - loss: 0.0130 - mae: 0.0902 - val_loss: 0.0122 - val_mae: 0.0892\n",
            "Epoch 23/100\n",
            "36/36 [==============================] - 0s 3ms/step - loss: 0.0132 - mae: 0.0904 - val_loss: 0.0120 - val_mae: 0.0887\n",
            "Epoch 24/100\n",
            "36/36 [==============================] - 0s 3ms/step - loss: 0.0140 - mae: 0.0931 - val_loss: 0.0115 - val_mae: 0.0865\n",
            "Epoch 25/100\n",
            "36/36 [==============================] - 0s 3ms/step - loss: 0.0135 - mae: 0.0912 - val_loss: 0.0113 - val_mae: 0.0862\n",
            "Epoch 26/100\n",
            "36/36 [==============================] - 0s 3ms/step - loss: 0.0144 - mae: 0.0929 - val_loss: 0.0114 - val_mae: 0.0867\n",
            "Epoch 27/100\n",
            "36/36 [==============================] - 0s 3ms/step - loss: 0.0146 - mae: 0.0937 - val_loss: 0.0111 - val_mae: 0.0851\n",
            "Epoch 28/100\n",
            "36/36 [==============================] - 0s 3ms/step - loss: 0.0136 - mae: 0.0910 - val_loss: 0.0113 - val_mae: 0.0860\n",
            "Epoch 29/100\n",
            "36/36 [==============================] - 0s 3ms/step - loss: 0.0127 - mae: 0.0895 - val_loss: 0.0105 - val_mae: 0.0823\n",
            "Epoch 30/100\n",
            "36/36 [==============================] - 0s 4ms/step - loss: 0.0126 - mae: 0.0882 - val_loss: 0.0106 - val_mae: 0.0838\n",
            "Epoch 31/100\n",
            "36/36 [==============================] - 0s 5ms/step - loss: 0.0127 - mae: 0.0868 - val_loss: 0.0101 - val_mae: 0.0807\n",
            "Epoch 32/100\n",
            "36/36 [==============================] - 0s 3ms/step - loss: 0.0132 - mae: 0.0895 - val_loss: 0.0102 - val_mae: 0.0811\n",
            "Epoch 33/100\n",
            "36/36 [==============================] - 0s 3ms/step - loss: 0.0138 - mae: 0.0930 - val_loss: 0.0107 - val_mae: 0.0834\n",
            "Epoch 34/100\n",
            "36/36 [==============================] - 0s 3ms/step - loss: 0.0127 - mae: 0.0879 - val_loss: 0.0100 - val_mae: 0.0800\n",
            "Epoch 35/100\n",
            "36/36 [==============================] - 0s 3ms/step - loss: 0.0138 - mae: 0.0892 - val_loss: 0.0097 - val_mae: 0.0788\n",
            "Epoch 36/100\n",
            "36/36 [==============================] - 0s 3ms/step - loss: 0.0129 - mae: 0.0878 - val_loss: 0.0100 - val_mae: 0.0804\n",
            "Epoch 37/100\n",
            "36/36 [==============================] - 0s 3ms/step - loss: 0.0114 - mae: 0.0858 - val_loss: 0.0094 - val_mae: 0.0776\n",
            "Epoch 38/100\n",
            "36/36 [==============================] - 0s 3ms/step - loss: 0.0135 - mae: 0.0896 - val_loss: 0.0094 - val_mae: 0.0775\n",
            "Epoch 39/100\n",
            "36/36 [==============================] - 0s 3ms/step - loss: 0.0107 - mae: 0.0806 - val_loss: 0.0088 - val_mae: 0.0755\n",
            "Epoch 40/100\n",
            "36/36 [==============================] - 0s 3ms/step - loss: 0.0112 - mae: 0.0834 - val_loss: 0.0085 - val_mae: 0.0740\n",
            "Epoch 41/100\n",
            "36/36 [==============================] - 0s 3ms/step - loss: 0.0107 - mae: 0.0821 - val_loss: 0.0086 - val_mae: 0.0756\n",
            "Epoch 42/100\n",
            "36/36 [==============================] - 0s 3ms/step - loss: 0.0122 - mae: 0.0854 - val_loss: 0.0085 - val_mae: 0.0744\n",
            "Epoch 43/100\n",
            "36/36 [==============================] - 0s 3ms/step - loss: 0.0122 - mae: 0.0849 - val_loss: 0.0089 - val_mae: 0.0756\n",
            "Epoch 44/100\n",
            "36/36 [==============================] - 0s 4ms/step - loss: 0.0118 - mae: 0.0826 - val_loss: 0.0087 - val_mae: 0.0751\n",
            "Epoch 45/100\n",
            "36/36 [==============================] - 0s 3ms/step - loss: 0.0125 - mae: 0.0857 - val_loss: 0.0086 - val_mae: 0.0741\n",
            "Epoch 46/100\n",
            "36/36 [==============================] - 0s 3ms/step - loss: 0.0126 - mae: 0.0860 - val_loss: 0.0084 - val_mae: 0.0728\n",
            "Epoch 47/100\n",
            "36/36 [==============================] - 0s 3ms/step - loss: 0.0124 - mae: 0.0835 - val_loss: 0.0082 - val_mae: 0.0723\n",
            "Epoch 48/100\n",
            "36/36 [==============================] - 0s 3ms/step - loss: 0.0114 - mae: 0.0829 - val_loss: 0.0082 - val_mae: 0.0726\n",
            "Epoch 49/100\n",
            "36/36 [==============================] - 0s 3ms/step - loss: 0.0121 - mae: 0.0850 - val_loss: 0.0080 - val_mae: 0.0702\n",
            "Epoch 50/100\n",
            "36/36 [==============================] - 0s 3ms/step - loss: 0.0117 - mae: 0.0846 - val_loss: 0.0082 - val_mae: 0.0718\n",
            "Epoch 51/100\n",
            "36/36 [==============================] - 0s 3ms/step - loss: 0.0111 - mae: 0.0811 - val_loss: 0.0076 - val_mae: 0.0691\n",
            "Epoch 52/100\n",
            "36/36 [==============================] - 0s 3ms/step - loss: 0.0115 - mae: 0.0819 - val_loss: 0.0082 - val_mae: 0.0713\n",
            "Epoch 53/100\n",
            "36/36 [==============================] - 0s 5ms/step - loss: 0.0106 - mae: 0.0799 - val_loss: 0.0080 - val_mae: 0.0716\n",
            "Epoch 54/100\n",
            "36/36 [==============================] - 0s 4ms/step - loss: 0.0116 - mae: 0.0830 - val_loss: 0.0082 - val_mae: 0.0721\n",
            "Epoch 55/100\n",
            "36/36 [==============================] - 0s 3ms/step - loss: 0.0128 - mae: 0.0842 - val_loss: 0.0084 - val_mae: 0.0727\n",
            "Epoch 56/100\n",
            "36/36 [==============================] - 0s 3ms/step - loss: 0.0132 - mae: 0.0857 - val_loss: 0.0086 - val_mae: 0.0741\n",
            "Epoch 57/100\n",
            "36/36 [==============================] - 0s 3ms/step - loss: 0.0102 - mae: 0.0778 - val_loss: 0.0083 - val_mae: 0.0736\n",
            "Epoch 58/100\n",
            "36/36 [==============================] - 0s 4ms/step - loss: 0.0105 - mae: 0.0801 - val_loss: 0.0079 - val_mae: 0.0703\n",
            "Epoch 59/100\n",
            "36/36 [==============================] - 0s 3ms/step - loss: 0.0119 - mae: 0.0834 - val_loss: 0.0085 - val_mae: 0.0736\n",
            "Epoch 60/100\n",
            "36/36 [==============================] - 0s 3ms/step - loss: 0.0129 - mae: 0.0864 - val_loss: 0.0086 - val_mae: 0.0736\n",
            "Epoch 61/100\n",
            "36/36 [==============================] - 0s 4ms/step - loss: 0.0116 - mae: 0.0827 - val_loss: 0.0085 - val_mae: 0.0736\n",
            "Epoch 62/100\n",
            "36/36 [==============================] - 0s 3ms/step - loss: 0.0115 - mae: 0.0802 - val_loss: 0.0079 - val_mae: 0.0708\n",
            "Epoch 63/100\n",
            "36/36 [==============================] - 0s 3ms/step - loss: 0.0118 - mae: 0.0836 - val_loss: 0.0082 - val_mae: 0.0720\n",
            "Epoch 64/100\n",
            "36/36 [==============================] - 0s 3ms/step - loss: 0.0118 - mae: 0.0833 - val_loss: 0.0083 - val_mae: 0.0731\n",
            "Epoch 65/100\n",
            "36/36 [==============================] - 0s 3ms/step - loss: 0.0103 - mae: 0.0780 - val_loss: 0.0081 - val_mae: 0.0725\n",
            "Epoch 66/100\n",
            "36/36 [==============================] - 0s 3ms/step - loss: 0.0108 - mae: 0.0792 - val_loss: 0.0079 - val_mae: 0.0713\n",
            "Epoch 67/100\n",
            "36/36 [==============================] - 0s 4ms/step - loss: 0.0113 - mae: 0.0780 - val_loss: 0.0081 - val_mae: 0.0720\n",
            "Epoch 68/100\n",
            "36/36 [==============================] - 0s 3ms/step - loss: 0.0126 - mae: 0.0832 - val_loss: 0.0082 - val_mae: 0.0730\n",
            "Epoch 69/100\n",
            "36/36 [==============================] - 0s 5ms/step - loss: 0.0124 - mae: 0.0859 - val_loss: 0.0083 - val_mae: 0.0725\n",
            "Epoch 70/100\n",
            "36/36 [==============================] - 0s 5ms/step - loss: 0.0098 - mae: 0.0773 - val_loss: 0.0078 - val_mae: 0.0702\n",
            "Epoch 71/100\n",
            "36/36 [==============================] - 0s 7ms/step - loss: 0.0105 - mae: 0.0790 - val_loss: 0.0079 - val_mae: 0.0712\n",
            "Epoch 71: early stopping\n"
          ]
        }
      ]
    },
    {
      "cell_type": "code",
      "source": [
        "# evaluate the model\n",
        "val_mse, val_mae = model.evaluate(features_test_scale, labels_test.to_numpy(), verbose=0)\n",
        "print('after', model.trainable_variables)"
      ],
      "metadata": {
        "colab": {
          "base_uri": "https://localhost:8080/"
        },
        "id": "6tcFBcjWmbft",
        "outputId": "2d2cc649-8d76-4554-b703-7a893f0cfce6"
      },
      "execution_count": 10,
      "outputs": [
        {
          "output_type": "stream",
          "name": "stdout",
          "text": [
            "after [<tf.Variable 'dense/kernel:0' shape=(7, 4) dtype=float32, numpy=\n",
            "array([[ 0.2626715 ,  0.46992442, -0.30208957, -0.28032798],\n",
            "       [-0.40619996, -0.41542405, -0.25322214,  0.2877187 ],\n",
            "       [-0.54709196,  0.12054145,  0.20441079,  0.06811589],\n",
            "       [-0.27588913,  0.3926496 ,  0.12932473, -0.11970782],\n",
            "       [-0.09525701,  0.59964347, -0.19311959,  0.10885517],\n",
            "       [-0.1338962 ,  0.42556036, -0.47839025, -0.21260376],\n",
            "       [-0.36913225,  0.12944892, -0.17661603,  0.15135895]],\n",
            "      dtype=float32)>, <tf.Variable 'dense/bias:0' shape=(4,) dtype=float32, numpy=array([ 0.10244919,  0.06679595,  0.1693564 , -0.22688667], dtype=float32)>, <tf.Variable 'dense_1/kernel:0' shape=(4, 2) dtype=float32, numpy=\n",
            "array([[ 0.1067284 ,  0.13758421],\n",
            "       [-0.41176447, -0.63166857],\n",
            "       [ 0.4973057 , -0.95975405],\n",
            "       [ 0.5606817 ,  0.12793055]], dtype=float32)>, <tf.Variable 'dense_1/bias:0' shape=(2,) dtype=float32, numpy=array([0.08775402, 0.01749778], dtype=float32)>, <tf.Variable 'dense_2/kernel:0' shape=(2, 1) dtype=float32, numpy=\n",
            "array([[-0.17784874],\n",
            "       [-0.45730856]], dtype=float32)>, <tf.Variable 'dense_2/bias:0' shape=(1,) dtype=float32, numpy=array([0.79371846], dtype=float32)>]\n"
          ]
        }
      ]
    },
    {
      "cell_type": "code",
      "source": [
        "# view the MAE performance\n",
        "print(\"MAE: \", val_mae)\n",
        "\n",
        "# evauate r-squared score\n",
        "y_pred = model.predict(features_test_scale)\n",
        "\n",
        "print(r2_score(labels_test, y_pred))"
      ],
      "metadata": {
        "colab": {
          "base_uri": "https://localhost:8080/"
        },
        "id": "ef8zhNycmdb6",
        "outputId": "ae45337c-af78-43ce-bac8-313606541dd3"
      },
      "execution_count": 11,
      "outputs": [
        {
          "output_type": "stream",
          "name": "stdout",
          "text": [
            "MAE:  0.06769854575395584\n",
            "4/4 [==============================] - 0s 4ms/step\n",
            "0.591344767883379\n"
          ]
        }
      ]
    },
    {
      "cell_type": "code",
      "source": [
        "# plot MAE and val_MAE over each epoch\n",
        "fig = plt.figure()\n",
        "ax1 = fig.add_subplot(2, 1, 1)\n",
        "ax1.plot(history.history['mae'])\n",
        "ax1.plot(history.history['val_mae'])\n",
        "ax1.set_title('model mae')\n",
        "ax1.set_ylabel('MAE')\n",
        "ax1.set_xlabel('epoch')\n",
        "ax1.legend(['train', 'validation'], loc='upper left')\n",
        "plt.show()\n"
      ],
      "metadata": {
        "colab": {
          "base_uri": "https://localhost:8080/",
          "height": 270
        },
        "id": "bGk9QiIdnI8n",
        "outputId": "b30619a9-fd52-479f-f7c5-b46cee770d91"
      },
      "execution_count": 16,
      "outputs": [
        {
          "output_type": "display_data",
          "data": {
            "text/plain": [
              "<Figure size 640x480 with 1 Axes>"
            ],
            "image/png": "[encoded data removed]"
          },
          "metadata": {}
        }
      ]
    },
    {
      "cell_type": "code",
      "source": [
        "# plot MAE and val_MAE over each epoch\n",
        "fig = plt.figure()\n",
        "ax1 = fig.add_subplot(2, 1, 1)\n",
        "ax1.plot(history.history['mae'])\n",
        "ax1.plot(history.history['val_mae'])\n",
        "ax1.set_title('model mae')\n",
        "ax1.set_ylabel('MAE')\n",
        "ax1.set_xlabel('epoch')\n",
        "ax1.legend(['train', 'validation'], loc='upper left')\n",
        "plt.show()\n"
      ],
      "metadata": {
        "colab": {
          "base_uri": "https://localhost:8080/",
          "height": 270
        },
        "id": "LJ0J80HInKxU",
        "outputId": "aaf79501-fee8-492c-d8d6-ac7e8fe2503f"
      },
      "execution_count": 17,
      "outputs": [
        {
          "output_type": "display_data",
          "data": {
            "text/plain": [
              "<Figure size 640x480 with 1 Axes>"
            ],
            "image/png": "[encoded data removed]"
          },
          "metadata": {}
        }
      ]
    }
  ]
}